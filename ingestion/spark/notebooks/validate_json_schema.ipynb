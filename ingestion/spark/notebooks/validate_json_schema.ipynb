# Validation JSON schema des messages
